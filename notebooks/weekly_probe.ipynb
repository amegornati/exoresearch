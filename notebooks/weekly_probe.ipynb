{
 "cells": [
  {
   "cell_type": "markdown",
   "id": "09640843",
   "metadata": {},
   "source": [
    "{\n",
    " \"cells\": [\n",
    "  {\"cell_type\":\"markdown\",\"metadata\":{},\"source\":[\"# Weekly Identity Probe — Analysis Notebook\\n\",\"Instructions:\\n\",\"1) Record a 6–10 min session with EEG + LSL markers.\\n\",\"2) Save `.xdf` under `../data/raw/`.\\n\",\"3) Load below and compute simple band-power + reaction-time figs.\\n\"]},\n",
    "  {\"cell_type\":\"code\",\"metadata\":{},\"source\":[\"import pathlib, numpy as np, pandas as pd, matplotlib.pyplot as plt\\n\",\"import pyxdf, yaml, mne\\n\",\"from scipy.signal import welch\\n\",\"cfg = yaml.safe_load(open('../config/config.yaml'))\\n\",\"FREQS, BW = cfg['frequencies_hz'], cfg['bandwidth_hz']\\n\",\"raw_dir = pathlib.Path('../data/raw')\\n\",\"files = sorted(raw_dir.glob('*.xdf'))\\n\",\"files\"]},\n",
    "  {\"cell_type\":\"code\",\"metadata\":{},\"source\":[\"# Pick the latest XDF\\n\",\"xdf_path = files[-1]\\n\",\"streams, header = pyxdf.load_xdf(xdf_path)\\n\",\"eeg = next(s for s in streams if s['info']['type'][0]=='EEG')\\n\",\"data = np.array(eeg['time_series']); fs = float(eeg['info']['nominal_srate'][0])\\n\",\"sig = data[:, -1]\\n\",\"f, pxx = welch(sig, fs=fs, nperseg=min(1024, len(sig)))\\n\",\"plt.semilogy(f, pxx); [plt.axvline(f0, ls='--', alpha=0.3) for f0 in FREQS]\\n\",\"plt.title('PSD (last channel)'); plt.xlabel('Hz'); plt.ylabel('Power'); plt.show()\"]}\n",
    " ],\n",
    " \"metadata\": {\"kernelspec\":{\"display_name\":\"Python 3\",\"language\":\"python\",\"name\":\"python3\"}},\n",
    " \"nbformat\":4,\n",
    " \"nbformat_minor\":5\n",
    "}"
   ]
  }
 ],
 "metadata": {
  "language_info": {
   "name": "python"
  }
 },
 "nbformat": 4,
 "nbformat_minor": 5
}
